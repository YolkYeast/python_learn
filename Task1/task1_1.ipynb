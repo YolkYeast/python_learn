{
 "cells": [
  {
   "cell_type": "markdown",
   "metadata": {},
   "source": [
    "# 位运算"
   ]
  },
  {
   "cell_type": "markdown",
   "metadata": {},
   "source": [
    "## 1. 原码、反码和补码"
   ]
  },
  {
   "cell_type": "markdown",
   "metadata": {},
   "source": [
    "二进制有三种不同的表示形式：原码、反码和补码，计算机内部使用补码来表示。\n",
    "\n",
    "**原码：**\n",
    "\n",
    "就是其二进制表示（注意，最高位是符号位）。"
   ]
  },
  {
   "cell_type": "raw",
   "metadata": {},
   "source": [
    "00 00 00 11 -> 3\n",
    "\n",
    "10 00 00 11 -> -3"
   ]
  },
  {
   "cell_type": "markdown",
   "metadata": {},
   "source": [
    "**反码：**\n",
    "\n",
    "正数的反码就是原码，\n",
    "\n",
    "负数的反码是符号位不变，其余位取反（对应正数按位取反）。"
   ]
  },
  {
   "cell_type": "raw",
   "metadata": {},
   "source": [
    "00 00 00 11 -> 3\n",
    "11 11 11 00 -> -3"
   ]
  },
  {
   "cell_type": "markdown",
   "metadata": {},
   "source": [
    "**补码：**\n",
    "\n",
    "正数的补码就是原码，\n",
    "\n",
    "负数的补码是反码+1。"
   ]
  },
  {
   "cell_type": "raw",
   "metadata": {},
   "source": [
    "00 00 00 11 -> 3\n",
    "11 11 11 01 -> -3"
   ]
  },
  {
   "cell_type": "markdown",
   "metadata": {},
   "source": [
    "**符号位：**\n",
    "\n",
    "最高位为符号位，0表示正数，1表示负数。\n",
    "\n",
    "在位运算中符号位也参与运算。"
   ]
  },
  {
   "cell_type": "markdown",
   "metadata": {},
   "source": [
    "## 2. 按位非操作 ~"
   ]
  },
  {
   "cell_type": "markdown",
   "metadata": {},
   "source": [
    "**“反码”，“取反”，“按位取反（~）”** 三个概念区分\n",
    "1. **取反**\n",
    "0变1,1变0\n",
    "2. **反码**\n",
    "正数的反码是其本身，对于负数其符号位不变其它各位取反(0变1,1变0)\n",
    "3. **按位取反**\n",
    "----\n",
    "按位取反步骤\n",
    "1. 先对数求补码\n",
    "2. 然后对补码取反，包括符号位\n",
    "3. 最后进行一个补码求原码的过程"
   ]
  },
  {
   "cell_type": "markdown",
   "metadata": {},
   "source": [
    "求反码的方法具体可看下面的链接\n",
    "\n",
    "https://blog.csdn.net/xiexievv/article/details/8124108\n",
    "\n",
    "1. 所有正整数的按位取反是其本身+1的负数\n",
    "\n",
    "2. 所有负整数的按位取反是其本身+1的绝对值\n",
    "\n",
    "3. 零的按位取反是 -1（0在数学界既不是正数也不是负数） "
   ]
  },
  {
   "cell_type": "raw",
   "metadata": {},
   "source": [
    "~ 1 = 0\n",
    "~ 0 = 1"
   ]
  },
  {
   "cell_type": "markdown",
   "metadata": {},
   "source": [
    "~ 把num的补码中的 0 和 1 全部取反（0 变为 1，1 变为 0）有符号整数的符号位在 ~ 运算中同样会取反。"
   ]
  },
  {
   "cell_type": "raw",
   "metadata": {},
   "source": [
    "00 00 01 01 -> 5\n",
    "~\n",
    "---\n",
    "11 11 10 10 -> -6\n",
    "\n",
    "11 11 10 11 -> -5\n",
    "~\n",
    "---\n",
    "00 00 01 00 -> 4"
   ]
  },
  {
   "cell_type": "markdown",
   "metadata": {},
   "source": [
    "## 3. 按位与操作 &"
   ]
  },
  {
   "cell_type": "raw",
   "metadata": {},
   "source": [
    "1 & 1 = 1\n",
    "1 & 0 = 0\n",
    "0 & 1 = 0\n",
    "0 & 0 = 0"
   ]
  },
  {
   "cell_type": "markdown",
   "metadata": {},
   "source": [
    "全一才为一"
   ]
  },
  {
   "cell_type": "raw",
   "metadata": {},
   "source": [
    "00 00 01 01 -> 5\n",
    "&\n",
    "00 00 01 10 -> 6\n",
    "---\n",
    "00 00 01 00 -> 4"
   ]
  },
  {
   "cell_type": "markdown",
   "metadata": {},
   "source": [
    "## 4. 按位或操作 |"
   ]
  },
  {
   "cell_type": "raw",
   "metadata": {},
   "source": [
    "1 | 1 = 1\n",
    "1 | 0 = 1\n",
    "0 | 1 = 1\n",
    "0 | 0 = 0"
   ]
  },
  {
   "cell_type": "markdown",
   "metadata": {},
   "source": [
    "有一即为一"
   ]
  },
  {
   "cell_type": "raw",
   "metadata": {},
   "source": [
    "00 00 01 01 -> 5\n",
    "|\n",
    "00 00 01 10 -> 6\n",
    "---\n",
    "00 00 01 11 -> 7"
   ]
  },
  {
   "cell_type": "markdown",
   "metadata": {},
   "source": [
    "## 5. 按位异或操作 ^"
   ]
  },
  {
   "cell_type": "raw",
   "metadata": {},
   "source": [
    "1 ^ 1 = 0\n",
    "1 ^ 0 = 1\n",
    "0 ^ 1 = 1\n",
    "0 ^ 0 = 0"
   ]
  },
  {
   "cell_type": "markdown",
   "metadata": {},
   "source": [
    "不同为一"
   ]
  },
  {
   "cell_type": "raw",
   "metadata": {},
   "source": [
    "00 00 01 01 -> 5\n",
    "^\n",
    "00 00 01 10 -> 6\n",
    "---\n",
    "00 00 00 11 -> 3"
   ]
  },
  {
   "cell_type": "markdown",
   "metadata": {},
   "source": [
    "异或操作的性质：满足交换律和结合律"
   ]
  },
  {
   "cell_type": "raw",
   "metadata": {},
   "source": [
    "A: 00 00 11 00\n",
    "B: 00 00 01 11\n",
    "\n",
    "A^B: 00 00 10 11\n",
    "B^A: 00 00 10 11\n",
    "\n",
    "A^A: 00 00 00 00\n",
    "A^0: 00 00 11 00\n",
    "\n",
    "A^B^A: = A^A^B = B = 00 00 01 11"
   ]
  },
  {
   "cell_type": "markdown",
   "metadata": {},
   "source": [
    "## 6. 按位左移操作 <<"
   ]
  },
  {
   "cell_type": "markdown",
   "metadata": {},
   "source": [
    "num << i 将num的二进制表示向左移动i位所得的值。"
   ]
  },
  {
   "cell_type": "markdown",
   "metadata": {},
   "source": [
    "**左移**:按**二进制形式**把所有的数字**向左移动对应的位数**，高位移出（舍弃），低位的空位补零。\n",
    "数学意义：\n",
    "\n",
    "在数学没有溢出的前提下，对于正数和负数，左移以为都相当于乘以2的1次方，左移n位\n",
    "\n",
    "就相当于乘以2的n次方\n"
   ]
  },
  {
   "cell_type": "raw",
   "metadata": {},
   "source": [
    "00 00 10 11 -> 11\n",
    "11 << 3\n",
    "---\n",
    "01 01 10 00 -> 88 "
   ]
  },
  {
   "cell_type": "markdown",
   "metadata": {},
   "source": [
    "## 7. 按位右移操作 >>"
   ]
  },
  {
   "cell_type": "markdown",
   "metadata": {},
   "source": [
    "num >> i 将num的二进制表示向右移动i位所得的值。"
   ]
  },
  {
   "cell_type": "markdown",
   "metadata": {},
   "source": [
    "**右移**:按**二进制形式**把所有的数字**向右移动对应的位数**，低位移出（舍弃），高位的空位补符号位\n",
    "\n",
    "数学意义：\n",
    "\n",
    "右移一位相当于除以2，右移n位相当于除以2的n次方，这里取的是商，不要余数"
   ]
  },
  {
   "cell_type": "raw",
   "metadata": {},
   "source": [
    "00 00 10 11 -> 11\n",
    "11 >> 2\n",
    "---\n",
    "00 00 00 10 -> 2 "
   ]
  },
  {
   "cell_type": "markdown",
   "metadata": {},
   "source": [
    "## 8. 利用位运算实现快速计算"
   ]
  },
  {
   "cell_type": "markdown",
   "metadata": {},
   "source": [
    "通过 <<，>> 快速计算2的倍数问题。"
   ]
  },
  {
   "cell_type": "raw",
   "metadata": {},
   "source": [
    "n << 1 -> 计算 n*2\n",
    "n >> 1 -> 计算 n/2，负奇数的运算不可用\n",
    "n << m -> 计算 n*(2^m)，即乘以 2 的 m 次方\n",
    "n >> m -> 计算 n/(2^m)，即除以 2 的 m 次方\n",
    "1 << n -> 2^n"
   ]
  },
  {
   "cell_type": "markdown",
   "metadata": {},
   "source": [
    "使用^来快速交换两个数"
   ]
  },
  {
   "cell_type": "code",
   "execution_count": 15,
   "metadata": {},
   "outputs": [],
   "source": [
    "a = 3\n",
    "b = 1"
   ]
  },
  {
   "cell_type": "code",
   "execution_count": 16,
   "metadata": {},
   "outputs": [
    {
     "name": "stdout",
     "output_type": "stream",
     "text": [
      "1 3\n"
     ]
    }
   ],
   "source": [
    "a ^= b\n",
    "b ^= a\n",
    "a ^= b\n",
    "print(a,b)"
   ]
  },
  {
   "cell_type": "markdown",
   "metadata": {},
   "source": [
    "通过 a & (-a) 快速获取a的最后为 1 位置的整数。"
   ]
  },
  {
   "cell_type": "raw",
   "metadata": {},
   "source": [
    "00 00 01 01 -> 5\n",
    "&\n",
    "11 11 10 11 -> -5\n",
    "---\n",
    "00 00 00 01 -> 1\n",
    "\n",
    "00 00 11 10 -> 14\n",
    "&\n",
    "11 11 00 10 -> -14\n",
    "---\n",
    "00 00 00 10 -> 2"
   ]
  },
  {
   "cell_type": "markdown",
   "metadata": {},
   "source": [
    "## 9. 利用位运算实现整数集合"
   ]
  },
  {
   "cell_type": "markdown",
   "metadata": {},
   "source": [
    "一个数的二进制表示可以看作是一个集合（0 表示不在集合中，1 表示在集合中）。\n",
    "\n",
    "比如集合 {1, 3, 4, 8}，可以表示成 01 00 01 10 10 而对应的位运算也就可以看作是对集合进行的操作。\n",
    "\n",
    "元素与集合的操作："
   ]
  },
  {
   "cell_type": "raw",
   "metadata": {},
   "source": [
    "a | (1<<i)  -> 把 i 插入到集合中\n",
    "a & ~(1<<i) -> 把 i 从集合中删除\n",
    "a & (1<<i)  -> 判断 i 是否属于该集合（零不属于，非零属于）"
   ]
  },
  {
   "cell_type": "markdown",
   "metadata": {},
   "source": [
    "集合间的操作"
   ]
  },
  {
   "cell_type": "raw",
   "metadata": {},
   "source": [
    "a 补   -> ~a\n",
    "a 交 b -> a & b\n",
    "a 并 b -> a | b\n",
    "a 差 b -> a & (~b)"
   ]
  },
  {
   "cell_type": "markdown",
   "metadata": {},
   "source": [
    "**注意：**整数在内存中是以补码的形式存在的，输出自然也是按照补码输出。"
   ]
  },
  {
   "cell_type": "code",
   "execution_count": 34,
   "metadata": {},
   "outputs": [],
   "source": [
    "class Solution:\n",
    "    def singleNumber(self, nums: List[int]) -> int:\n",
    "        for i in range(len(list1)):\n",
    "            num = list1[i]\n",
    "            count = 0\n",
    "            for j in range(len(list1)): \n",
    "                if num^list1[j] == 0:\n",
    "                    count += 1\n",
    "                j += 1\n",
    "            if count&1==1:\n",
    "                a = list1[i]\n",
    "                return a\n",
    "            i += 1"
   ]
  }
 ],
 "metadata": {
  "kernelspec": {
   "display_name": "Python 3",
   "language": "python",
   "name": "python3"
  },
  "language_info": {
   "codemirror_mode": {
    "name": "ipython",
    "version": 3
   },
   "file_extension": ".py",
   "mimetype": "text/x-python",
   "name": "python",
   "nbconvert_exporter": "python",
   "pygments_lexer": "ipython3",
   "version": "3.7.7"
  }
 },
 "nbformat": 4,
 "nbformat_minor": 4
}
