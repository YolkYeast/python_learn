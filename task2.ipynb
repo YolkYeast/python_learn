{
 "cells": [
  {
   "cell_type": "markdown",
   "metadata": {},
   "source": [
    "# 条件语句"
   ]
  },
  {
   "cell_type": "markdown",
   "metadata": {},
   "source": [
    "**一般条件语句会和循环语句一起使用**"
   ]
  },
  {
   "cell_type": "markdown",
   "metadata": {},
   "source": [
    "## 1. if语句"
   ]
  },
  {
   "cell_type": "raw",
   "metadata": {},
   "source": [
    "if something:\n",
    "    do something"
   ]
  },
  {
   "cell_type": "markdown",
   "metadata": {},
   "source": [
    "- if 语句的 expr_true_suite 代码块只有当条件表达式 expression 结果为真时才执行，否则将继续执行紧跟在该代码块后面的语句。\n",
    "- 单个 if 语句中的 expression 条件表达式可以通过布尔操作符 and，or和not 实现多重条件判断。"
   ]
  },
  {
   "cell_type": "code",
   "execution_count": 1,
   "metadata": {},
   "outputs": [
    {
     "name": "stdout",
     "output_type": "stream",
     "text": [
      "you are right\n"
     ]
    }
   ],
   "source": [
    "if 1 > 0 and not 3 < 2:\n",
    "    print('you are right')"
   ]
  },
  {
   "cell_type": "markdown",
   "metadata": {},
   "source": [
    "## 2. if - else语句"
   ]
  },
  {
   "cell_type": "raw",
   "metadata": {},
   "source": [
    "if something:\n",
    "    do something\n",
    "else:\n",
    "    do something"
   ]
  },
  {
   "cell_type": "markdown",
   "metadata": {},
   "source": [
    "- Python 提供与 if 搭配使用的 else，如果 if 语句的条件表达式结果布尔值为假，那么程序将执行 else 语句后的代码。"
   ]
  },
  {
   "cell_type": "code",
   "execution_count": null,
   "metadata": {},
   "outputs": [],
   "source": [
    "temp = input(\"猜一猜小姐姐想的是哪个数字？\")\n",
    "guess = int(temp) # input 函数将接收的任何数据类型都默认为 str。\n",
    "if guess == 666:\n",
    "    print(\"你太了解小姐姐的心思了！\")\n",
    "    print(\"哼，猜对也没有奖励！\")\n",
    "else:\n",
    "    print(\"猜错了，小姐姐现在心里想的是666！\")\n",
    "print(\"游戏结束，不玩儿啦！\")"
   ]
  },
  {
   "cell_type": "markdown",
   "metadata": {},
   "source": [
    "if语句支持嵌套，即在一个if语句中嵌入另一个if语句，从而构成不同层次的选择结构。Python 使用**缩进**而不是大括号来标记代码块边界，因此要特别注意else的悬挂问题。"
   ]
  },
  {
   "cell_type": "code",
   "execution_count": null,
   "metadata": {},
   "outputs": [],
   "source": [
    "hi = 6\n",
    "if hi > 2:\n",
    "    if hi > 7:\n",
    "        print('好棒!好棒!')\n",
    "else:\n",
    "    print('切~')"
   ]
  },
  {
   "cell_type": "code",
   "execution_count": 7,
   "metadata": {},
   "outputs": [
    {
     "name": "stdin",
     "output_type": "stream",
     "text": [
      "不妨猜一下小哥哥现在心里想的是那个数字： 5\n"
     ]
    },
    {
     "name": "stdout",
     "output_type": "stream",
     "text": [
      "小了，小了\n",
      "游戏结束，不玩儿啦！\n"
     ]
    }
   ],
   "source": [
    "temp = input(\"不妨猜一下小哥哥现在心里想的是那个数字：\")\n",
    "guess = int(temp)\n",
    "if guess > 8:\n",
    "    print(\"大了，大了\")\n",
    "else:\n",
    "    if guess == 8:\n",
    "        print(\"你这么懂小哥哥的心思吗？\")\n",
    "        print(\"哼，猜对也没有奖励！\")\n",
    "    else:\n",
    "        print(\"小了，小了\")\n",
    "print(\"游戏结束，不玩儿啦！\")"
   ]
  },
  {
   "cell_type": "markdown",
   "metadata": {},
   "source": [
    "## 3. if - elif - else 语句"
   ]
  },
  {
   "cell_type": "raw",
   "metadata": {},
   "source": [
    "if something1:\n",
    "    do something1\n",
    "elif something2:\n",
    "    do something2\n",
    "    .\n",
    "    .\n",
    "elif somethingN:\n",
    "    do somethingN\n",
    "else:\n",
    "    do something"
   ]
  },
  {
   "cell_type": "markdown",
   "metadata": {},
   "source": [
    "- elif 语句即为 else if，用来检查多个表达式是否为真，并在为真时执行特定代码块中的代码。"
   ]
  },
  {
   "cell_type": "code",
   "execution_count": 8,
   "metadata": {},
   "outputs": [
    {
     "name": "stdin",
     "output_type": "stream",
     "text": [
      "请输入成绩: 55\n"
     ]
    },
    {
     "name": "stdout",
     "output_type": "stream",
     "text": [
      "D\n"
     ]
    }
   ],
   "source": [
    "temp = input('请输入成绩:')\n",
    "source = int(temp)\n",
    "if 100 >= source >= 90:\n",
    "    print('A')\n",
    "elif 90 > source >= 80:\n",
    "    print('B')\n",
    "elif 80 > source >= 60:\n",
    "    print('C')\n",
    "elif 60 > source >= 0:\n",
    "    print('D')\n",
    "else:\n",
    "    print('输入错误！')"
   ]
  },
  {
   "cell_type": "markdown",
   "metadata": {},
   "source": [
    "## 4. assert 关键词"
   ]
  },
  {
   "cell_type": "markdown",
   "metadata": {},
   "source": [
    "- assert这个关键词我们称之为“断言”，当这个关键词后边的条件为 False 时，程序自动崩溃并抛出AssertionError的异常。"
   ]
  },
  {
   "cell_type": "code",
   "execution_count": 9,
   "metadata": {},
   "outputs": [
    {
     "ename": "AssertionError",
     "evalue": "",
     "output_type": "error",
     "traceback": [
      "\u001b[1;31m---------------------------------------------------------------------------\u001b[0m",
      "\u001b[1;31mAssertionError\u001b[0m                            Traceback (most recent call last)",
      "\u001b[1;32m<ipython-input-9-d6a31436682c>\u001b[0m in \u001b[0;36m<module>\u001b[1;34m\u001b[0m\n\u001b[0;32m      1\u001b[0m \u001b[0mmy_list\u001b[0m \u001b[1;33m=\u001b[0m \u001b[1;33m[\u001b[0m\u001b[1;34m'lsgogroup'\u001b[0m\u001b[1;33m]\u001b[0m\u001b[1;33m\u001b[0m\u001b[1;33m\u001b[0m\u001b[0m\n\u001b[0;32m      2\u001b[0m \u001b[0mmy_list\u001b[0m\u001b[1;33m.\u001b[0m\u001b[0mpop\u001b[0m\u001b[1;33m(\u001b[0m\u001b[1;36m0\u001b[0m\u001b[1;33m)\u001b[0m\u001b[1;33m\u001b[0m\u001b[1;33m\u001b[0m\u001b[0m\n\u001b[1;32m----> 3\u001b[1;33m \u001b[1;32massert\u001b[0m \u001b[0mlen\u001b[0m\u001b[1;33m(\u001b[0m\u001b[0mmy_list\u001b[0m\u001b[1;33m)\u001b[0m \u001b[1;33m>\u001b[0m \u001b[1;36m0\u001b[0m\u001b[1;33m\u001b[0m\u001b[1;33m\u001b[0m\u001b[0m\n\u001b[0m\u001b[0;32m      4\u001b[0m \u001b[1;33m\u001b[0m\u001b[0m\n\u001b[0;32m      5\u001b[0m \u001b[1;31m# AssertionError\u001b[0m\u001b[1;33m\u001b[0m\u001b[1;33m\u001b[0m\u001b[1;33m\u001b[0m\u001b[0m\n",
      "\u001b[1;31mAssertionError\u001b[0m: "
     ]
    }
   ],
   "source": [
    "my_list = ['lsgogroup']\n",
    "my_list.pop(0)\n",
    "assert len(my_list) > 0\n",
    "\n",
    "# AssertionError"
   ]
  },
  {
   "cell_type": "markdown",
   "metadata": {},
   "source": [
    "在进行单元测试时，可以用来在程序中置入检查点，只有条件为 True 才能让程序正常工作。\n"
   ]
  },
  {
   "cell_type": "code",
   "execution_count": 10,
   "metadata": {},
   "outputs": [
    {
     "ename": "AssertionError",
     "evalue": "",
     "output_type": "error",
     "traceback": [
      "\u001b[1;31m---------------------------------------------------------------------------\u001b[0m",
      "\u001b[1;31mAssertionError\u001b[0m                            Traceback (most recent call last)",
      "\u001b[1;32m<ipython-input-10-0295be16ec13>\u001b[0m in \u001b[0;36m<module>\u001b[1;34m\u001b[0m\n\u001b[1;32m----> 1\u001b[1;33m \u001b[1;32massert\u001b[0m \u001b[1;36m3\u001b[0m \u001b[1;33m>\u001b[0m \u001b[1;36m7\u001b[0m\u001b[1;33m\u001b[0m\u001b[1;33m\u001b[0m\u001b[0m\n\u001b[0m",
      "\u001b[1;31mAssertionError\u001b[0m: "
     ]
    }
   ],
   "source": [
    "assert 3 > 7"
   ]
  },
  {
   "cell_type": "markdown",
   "metadata": {},
   "source": [
    "# 循环"
   ]
  },
  {
   "cell_type": "markdown",
   "metadata": {},
   "source": [
    "## 5.1 While"
   ]
  },
  {
   "cell_type": "markdown",
   "metadata": {},
   "source": [
    "while语句最基本的形式包括一个位于顶部的布尔表达式，一个或多个属于while代码块的缩进语句。"
   ]
  },
  {
   "cell_type": "raw",
   "metadata": {},
   "source": [
    "while 布尔表达式:\n",
    "    代码块"
   ]
  },
  {
   "cell_type": "markdown",
   "metadata": {},
   "source": [
    "while循环的代码块会一直循环执行，直到布尔表达式的值为布尔假。\n",
    "\n",
    "如果布尔表达式不带有<、>、==、！=、in、not in等运算符，仅仅给出数值之类的条件，也是可以的。\n",
    "\n",
    "当while后写入一个**非零整数**时，视为真值，执行循环体；写入0时，视为假值，不执行循环体。\n",
    "\n",
    "也可以写入str、list或任何序列，**长度非零**则视为真值，执行循环体；否则视为假值，不执行循环体。"
   ]
  },
  {
   "cell_type": "code",
   "execution_count": 2,
   "metadata": {},
   "outputs": [
    {
     "name": "stdin",
     "output_type": "stream",
     "text": [
      "不妨猜一下小哥哥现在心里想的是那个数字： 8\n"
     ]
    },
    {
     "name": "stdout",
     "output_type": "stream",
     "text": [
      "你是小哥哥心里的蛔虫吗？\n",
      "哼，猜对也没有奖励！\n",
      "游戏结束，不玩儿啦！\n"
     ]
    }
   ],
   "source": [
    "count = 0\n",
    "while count < 3:\n",
    "    temp = input(\"不妨猜一下小哥哥现在心里想的是那个数字：\")\n",
    "    guess = int(temp)\n",
    "    if guess > 8:\n",
    "        print(\"大了，大了\")\n",
    "    else:\n",
    "        if guess == 8:\n",
    "            print(\"你是小哥哥心里的蛔虫吗？\")\n",
    "            print(\"哼，猜对也没有奖励！\")\n",
    "            count = 3\n",
    "        else:\n",
    "            print(\"小了，小了\")\n",
    "    count = count + 1\n",
    "print(\"游戏结束，不玩儿啦！\")"
   ]
  },
  {
   "cell_type": "markdown",
   "metadata": {},
   "source": [
    "布尔表达式返回0，循环终止。"
   ]
  },
  {
   "cell_type": "code",
   "execution_count": 4,
   "metadata": {},
   "outputs": [
    {
     "name": "stdout",
     "output_type": "stream",
     "text": [
      "abcd\n",
      "bcd\n",
      "cd\n",
      "d\n"
     ]
    }
   ],
   "source": [
    "string = 'abcd'\n",
    "while string:\n",
    "    print(string)\n",
    "    string = string[1:]"
   ]
  },
  {
   "cell_type": "markdown",
   "metadata": {},
   "source": [
    "## 5.2 while - else 循环"
   ]
  },
  {
   "cell_type": "raw",
   "metadata": {},
   "source": [
    "while 布尔表达式:\n",
    "    代码块\n",
    "else:\n",
    "    代码块"
   ]
  },
  {
   "cell_type": "markdown",
   "metadata": {},
   "source": [
    "当while循环正常执行完的情况下，执行else输出，如果while循环中执行了跳出循环的语句，比如 break，将不执行else代码块的内容。"
   ]
  },
  {
   "cell_type": "code",
   "execution_count": 5,
   "metadata": {},
   "outputs": [
    {
     "name": "stdout",
     "output_type": "stream",
     "text": [
      "0 is  less than 5\n",
      "1 is  less than 5\n",
      "2 is  less than 5\n",
      "3 is  less than 5\n",
      "4 is  less than 5\n",
      "5 is not less than 5\n"
     ]
    }
   ],
   "source": [
    "count = 0\n",
    "while count < 5:\n",
    "    print(\"%d is  less than 5\" % count)\n",
    "    count = count + 1\n",
    "else:\n",
    "    print(\"%d is not less than 5\" % count)"
   ]
  },
  {
   "cell_type": "code",
   "execution_count": 6,
   "metadata": {},
   "outputs": [
    {
     "name": "stdout",
     "output_type": "stream",
     "text": [
      "0 is  less than 5\n"
     ]
    }
   ],
   "source": [
    "count = 0\n",
    "while count < 5:\n",
    "    print(\"%d is  less than 5\" % count)\n",
    "    count = 6\n",
    "    break\n",
    "else:\n",
    "    print(\"%d is not less than 5\" % count)\n",
    "\n",
    "# 0 is  less than 5"
   ]
  },
  {
   "cell_type": "markdown",
   "metadata": {},
   "source": [
    "## 5.3 for 循环"
   ]
  },
  {
   "cell_type": "markdown",
   "metadata": {},
   "source": [
    "for循环是迭代循环，在Python中相当于一个通用的序列迭代器，可以遍历任何**有序序列**，如**str、list、tuple**等，也可以遍历任何**可迭代对象**，如**dict**。"
   ]
  },
  {
   "cell_type": "raw",
   "metadata": {},
   "source": [
    "for 迭代变量 in 可迭代对象:\n",
    "    代码块"
   ]
  },
  {
   "cell_type": "markdown",
   "metadata": {},
   "source": [
    "每次循环，迭代变量被设置为可迭代对象的当前元素，提供给代码块使用。"
   ]
  },
  {
   "cell_type": "code",
   "execution_count": 7,
   "metadata": {},
   "outputs": [
    {
     "name": "stdout",
     "output_type": "stream",
     "text": [
      "I L o v e L S G O "
     ]
    }
   ],
   "source": [
    "for i in 'ILoveLSGO':\n",
    "    print(i, end=' ')  # 不换行输出\n",
    "\n",
    "# I L o v e L S G O"
   ]
  },
  {
   "cell_type": "code",
   "execution_count": 9,
   "metadata": {},
   "outputs": [
    {
     "name": "stdout",
     "output_type": "stream",
     "text": [
      "张三\n",
      "李四\n",
      "刘德华\n",
      "刘六\n",
      "周润发\n",
      "张三\n",
      "李四\n",
      "刘德华\n",
      "刘六\n",
      "周润发\n"
     ]
    }
   ],
   "source": [
    "member = ['张三', '李四', '刘德华', '刘六', '周润发']\n",
    "for each in member:\n",
    "    print(each)\n",
    "for i in range(len(member)):\n",
    "    print(member[i])"
   ]
  },
  {
   "cell_type": "code",
   "execution_count": 10,
   "metadata": {},
   "outputs": [
    {
     "name": "stdout",
     "output_type": "stream",
     "text": [
      "a:1 b:2 c:3 d:4 "
     ]
    }
   ],
   "source": [
    "dic = {'a': 1, 'b': 2, 'c': 3, 'd': 4}\n",
    "\n",
    "for key, value in dic.items():\n",
    "    print(key, value, sep=':', end=' ')\n",
    "    \n",
    "# a:1 b:2 c:3 d:4 "
   ]
  },
  {
   "cell_type": "code",
   "execution_count": 11,
   "metadata": {},
   "outputs": [
    {
     "name": "stdout",
     "output_type": "stream",
     "text": [
      "a b c d "
     ]
    }
   ],
   "source": [
    "dic = {'a': 1, 'b': 2, 'c': 3, 'd': 4}\n",
    "\n",
    "for key in dic.keys():\n",
    "    print(key, end=' ')\n",
    "    \n",
    "# a b c d "
   ]
  },
  {
   "cell_type": "code",
   "execution_count": 12,
   "metadata": {},
   "outputs": [
    {
     "name": "stdout",
     "output_type": "stream",
     "text": [
      "1 2 3 4 "
     ]
    }
   ],
   "source": [
    "dic = {'a': 1, 'b': 2, 'c': 3, 'd': 4}\n",
    "\n",
    "for value in dic.values():\n",
    "    print(value, end=' ')\n",
    "    \n",
    "# 1 2 3 4"
   ]
  },
  {
   "cell_type": "markdown",
   "metadata": {},
   "source": [
    "## 5.4 for - else 循环"
   ]
  },
  {
   "cell_type": "raw",
   "metadata": {},
   "source": [
    "for 迭代变量 in 可迭代对象:\n",
    "    代码块\n",
    "else:\n",
    "    代码块"
   ]
  },
  {
   "cell_type": "markdown",
   "metadata": {},
   "source": [
    "当for循环正常执行完的情况下，执行else输出，如果for循环中执行了跳出循环的语句，比如 break，将不执行else代码块的内容，与while - else语句一样"
   ]
  },
  {
   "cell_type": "code",
   "execution_count": 14,
   "metadata": {},
   "outputs": [
    {
     "name": "stdout",
     "output_type": "stream",
     "text": [
      "10 等于 2 * 5\n",
      "11 是一个质数\n",
      "12 等于 2 * 6\n",
      "13 是一个质数\n",
      "14 等于 2 * 7\n",
      "15 等于 3 * 5\n",
      "16 等于 2 * 8\n",
      "17 是一个质数\n",
      "18 等于 2 * 9\n",
      "19 是一个质数\n"
     ]
    }
   ],
   "source": [
    "for num in range(10, 20):  # 迭代 10 到 20 之间的数字\n",
    "    for i in range(2, num):  # 根据因子迭代\n",
    "        if num % i == 0:  # 确定第一个因子\n",
    "            j = num / i  # 计算第二个因子\n",
    "            print('%d 等于 %d * %d' % (num, i, j))\n",
    "            break  # 跳出当前循环\n",
    "    else:  # 循环的 else 部分\n",
    "        print(num, '是一个质数')"
   ]
  },
  {
   "cell_type": "markdown",
   "metadata": {},
   "source": [
    "## 6. range() 函数"
   ]
  },
  {
   "cell_type": "raw",
   "metadata": {},
   "source": [
    "range([start,] stop[, step=1])"
   ]
  },
  {
   "cell_type": "markdown",
   "metadata": {},
   "source": [
    "- 这个BIF（Built-in functions）有三个参数，其中用中括号括起来的两个表示这两个参数是可选的。\n",
    "- step=1 表示第三个参数的默认值是1。\n",
    "- range 这个BIF的作用是生成一个从start参数的值开始到stop参数的值结束的数字序列，该序列包含start的值但不包含stop的值。"
   ]
  },
  {
   "cell_type": "code",
   "execution_count": 16,
   "metadata": {},
   "outputs": [
    {
     "name": "stdout",
     "output_type": "stream",
     "text": [
      "2\n",
      "3\n",
      "4\n",
      "5\n",
      "6\n",
      "7\n",
      "8\n"
     ]
    }
   ],
   "source": [
    "for i in range(2, 9):  # 不包含9\n",
    "    print(i)"
   ]
  },
  {
   "cell_type": "code",
   "execution_count": 17,
   "metadata": {},
   "outputs": [
    {
     "name": "stdout",
     "output_type": "stream",
     "text": [
      "1\n",
      "3\n",
      "5\n",
      "7\n",
      "9\n"
     ]
    }
   ],
   "source": [
    "for i in range(1, 10, 2):\n",
    "    print(i)"
   ]
  },
  {
   "cell_type": "markdown",
   "metadata": {},
   "source": [
    "## 7. enumerate()函数——枚举"
   ]
  },
  {
   "cell_type": "raw",
   "metadata": {},
   "source": [
    "enumerate(sequence, [start=0])"
   ]
  },
  {
   "cell_type": "markdown",
   "metadata": {},
   "source": [
    "- sequence -- 一个序列、迭代器或其他支持迭代对象。\n",
    "- start -- **下标**起始位置。\n",
    "- 返回 enumerate(枚举) 对象"
   ]
  },
  {
   "cell_type": "code",
   "execution_count": 18,
   "metadata": {},
   "outputs": [
    {
     "name": "stdout",
     "output_type": "stream",
     "text": [
      "[(0, 'Spring'), (1, 'Summer'), (2, 'Fall'), (3, 'Winter')]\n",
      "[(1, 'Spring'), (2, 'Summer'), (3, 'Fall'), (4, 'Winter')]\n"
     ]
    }
   ],
   "source": [
    "seasons = ['Spring', 'Summer', 'Fall', 'Winter']\n",
    "lst = list(enumerate(seasons))\n",
    "print(lst)\n",
    "# [(0, 'Spring'), (1, 'Summer'), (2, 'Fall'), (3, 'Winter')]\n",
    "lst = list(enumerate(seasons, start=1))  # 下标从 1 开始\n",
    "print(lst)\n",
    "# [(1, 'Spring'), (2, 'Summer'), (3, 'Fall'), (4, 'Winter')]"
   ]
  },
  {
   "cell_type": "markdown",
   "metadata": {},
   "source": [
    "**enumerate与for循环结合**"
   ]
  },
  {
   "cell_type": "raw",
   "metadata": {},
   "source": [
    "for i, a in enumerate(A)\n",
    "    do something with a  "
   ]
  },
  {
   "cell_type": "markdown",
   "metadata": {},
   "source": [
    "用 enumerate(A) 不仅返回了 A 中的元素，还顺便给该元素一个索引值 (默认从 0 开始)。此外，用 enumerate(A, j) 还可以确定索引起始值为 j。"
   ]
  },
  {
   "cell_type": "code",
   "execution_count": 20,
   "metadata": {},
   "outputs": [
    {
     "name": "stdout",
     "output_type": "stream",
     "text": [
      "I love Python\n",
      "I love R\n",
      "I love Matlab\n",
      "I love C++\n",
      "Done!\n",
      "2 I love Python\n",
      "3 I love R\n",
      "4 I love Matlab\n",
      "5 I love C++\n",
      "Done!\n"
     ]
    }
   ],
   "source": [
    "languages = ['Python', 'R', 'Matlab', 'C++']\n",
    "for language in languages:\n",
    "    print('I love', language)\n",
    "print('Done!')\n",
    "\n",
    "for i, language in enumerate(languages, 2):\n",
    "    print(i, 'I love', language)\n",
    "print('Done!')\n"
   ]
  },
  {
   "cell_type": "markdown",
   "metadata": {},
   "source": [
    "## 8. Break语句"
   ]
  },
  {
   "cell_type": "markdown",
   "metadata": {},
   "source": [
    "break语句可以跳出当前所在层的循环。"
   ]
  },
  {
   "cell_type": "code",
   "execution_count": 21,
   "metadata": {},
   "outputs": [
    {
     "name": "stdin",
     "output_type": "stream",
     "text": [
      "不妨猜一下小哥哥现在心里想的是那个数字： 33\n"
     ]
    },
    {
     "name": "stdout",
     "output_type": "stream",
     "text": [
      "大了，大了\n"
     ]
    },
    {
     "name": "stdin",
     "output_type": "stream",
     "text": [
      "不妨猜一下小哥哥现在心里想的是那个数字： 2\n"
     ]
    },
    {
     "name": "stdout",
     "output_type": "stream",
     "text": [
      "你这样懂小哥哥的心思啊？\n",
      "哼，猜对也没有奖励！\n",
      "游戏结束，不玩儿啦！\n"
     ]
    }
   ],
   "source": [
    "import random\n",
    "secret = random.randint(1, 10) #[1,10]之间的随机数\n",
    "\n",
    "while True:\n",
    "    temp = input(\"不妨猜一下小哥哥现在心里想的是那个数字：\")\n",
    "    guess = int(temp)\n",
    "    if guess > secret:\n",
    "        print(\"大了，大了\")\n",
    "    else:\n",
    "        if guess == secret:\n",
    "            print(\"你这样懂小哥哥的心思啊？\")\n",
    "            print(\"哼，猜对也没有奖励！\")\n",
    "            break\n",
    "        else:\n",
    "            print(\"小了，小了\")\n",
    "print(\"游戏结束，不玩儿啦！\")"
   ]
  },
  {
   "cell_type": "markdown",
   "metadata": {},
   "source": [
    "## 9. Continue语句"
   ]
  },
  {
   "cell_type": "markdown",
   "metadata": {},
   "source": [
    "continue终止本轮循环并开始下一轮循环。"
   ]
  },
  {
   "cell_type": "code",
   "execution_count": 22,
   "metadata": {},
   "outputs": [
    {
     "name": "stdout",
     "output_type": "stream",
     "text": [
      "2\n",
      "1\n",
      "4\n",
      "3\n",
      "6\n",
      "5\n",
      "8\n",
      "7\n",
      "10\n",
      "9\n"
     ]
    }
   ],
   "source": [
    "for i in range(10):\n",
    "    if i % 2 != 0:\n",
    "        print(i)\n",
    "        continue\n",
    "    i += 2\n",
    "    print(i)"
   ]
  },
  {
   "cell_type": "markdown",
   "metadata": {},
   "source": [
    "## 10. pass 语句"
   ]
  },
  {
   "cell_type": "markdown",
   "metadata": {},
   "source": [
    "pass 语句的意思是“不做任何事”，如果你在需要有语句的地方不写任何语句，那么解释器会提示出错，而 pass 语句就是用来解决这些问题的。"
   ]
  },
  {
   "cell_type": "code",
   "execution_count": 23,
   "metadata": {},
   "outputs": [
    {
     "ename": "SyntaxError",
     "evalue": "unexpected EOF while parsing (<ipython-input-23-f1bd3e1bbfc3>, line 3)",
     "output_type": "error",
     "traceback": [
      "\u001b[1;36m  File \u001b[1;32m\"<ipython-input-23-f1bd3e1bbfc3>\"\u001b[1;36m, line \u001b[1;32m3\u001b[0m\n\u001b[1;33m    # SyntaxError: unexpected EOF while parsing\u001b[0m\n\u001b[1;37m                                               ^\u001b[0m\n\u001b[1;31mSyntaxError\u001b[0m\u001b[1;31m:\u001b[0m unexpected EOF while parsing\n"
     ]
    }
   ],
   "source": [
    "def a_func():\n",
    "\n",
    "# SyntaxError: unexpected EOF while parsing"
   ]
  },
  {
   "cell_type": "code",
   "execution_count": 24,
   "metadata": {},
   "outputs": [],
   "source": [
    "def a_func():\n",
    "    pass"
   ]
  },
  {
   "cell_type": "markdown",
   "metadata": {},
   "source": [
    "pass是空语句，不做任何操作，只起到占位的作用，其作用是为了保持程序结构的完整性。尽管pass语句不做任何操作，但如果暂时不确定要在一个位置放上什么样的代码，可以先放置一个pass语句，让代码可以正常运行。"
   ]
  },
  {
   "cell_type": "markdown",
   "metadata": {},
   "source": [
    "## 练习题"
   ]
  },
  {
   "cell_type": "code",
   "execution_count": 25,
   "metadata": {},
   "outputs": [],
   "source": [
    "def find_number():\n",
    "    for i in range(1500, 2700):\n",
    "        if i % 7 == 0 & i % 5 ==0:\n",
    "            print(i)"
   ]
  },
  {
   "cell_type": "code",
   "execution_count": 36,
   "metadata": {},
   "outputs": [],
   "source": [
    "def guitusaipao(v1, v2, t, s, l):\n",
    "    t1 = 0\n",
    "    t2 = 0\n",
    "    while v1 * t1 < l and v2 * t2 < l:\n",
    "        l1 = v1 * t1\n",
    "        l2 = v2 * t2\n",
    "        if l2 -l1 == t:\n",
    "            t2 = t2 - s\n",
    "        t1 += 1\n",
    "        t2 += 1\n",
    "    if v1 * t1 > v2 * t2:\n",
    "        print(\"T\")\n",
    "        print(t1)\n",
    "    elif v1 * t1 == v2 * t2:\n",
    "        print(\"D\")\n",
    "        print(t1)\n",
    "    else:\n",
    "        print(\"R\")\n",
    "        print(t1)\n",
    "        "
   ]
  },
  {
   "cell_type": "code",
   "execution_count": 37,
   "metadata": {},
   "outputs": [
    {
     "name": "stdout",
     "output_type": "stream",
     "text": [
      "R\n",
      "5\n"
     ]
    }
   ],
   "source": [
    "guitusaipao(1, 20, 100, 1, 100)"
   ]
  },
  {
   "cell_type": "code",
   "execution_count": null,
   "metadata": {},
   "outputs": [],
   "source": []
  }
 ],
 "metadata": {
  "kernelspec": {
   "display_name": "Python 3",
   "language": "python",
   "name": "python3"
  },
  "language_info": {
   "codemirror_mode": {
    "name": "ipython",
    "version": 3
   },
   "file_extension": ".py",
   "mimetype": "text/x-python",
   "name": "python",
   "nbconvert_exporter": "python",
   "pygments_lexer": "ipython3",
   "version": "3.7.4"
  }
 },
 "nbformat": 4,
 "nbformat_minor": 4
}
